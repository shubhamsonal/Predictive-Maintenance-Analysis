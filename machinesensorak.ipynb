{
 "cells": [
  {
   "cell_type": "code",
   "execution_count": 6,
   "metadata": {},
   "outputs": [],
   "source": [
    "import pandas as pd\n",
    "import numpy as np\n",
    "%matplotlib inline \n",
    "import matplotlib.pyplot as plt"
   ]
  },
  {
   "cell_type": "code",
   "execution_count": 7,
   "metadata": {},
   "outputs": [
    {
     "data": {
      "text/plain": [
       "(168697, 6)"
      ]
     },
     "execution_count": 7,
     "metadata": {},
     "output_type": "execute_result"
    }
   ],
   "source": [
    "data=pd.read_csv(\"C:/Users/SHUBHAM/Desktop/data/sensor/sensordata.csv\")\n",
    "data.shape"
   ]
  },
  {
   "cell_type": "code",
   "execution_count": 8,
   "metadata": {},
   "outputs": [
    {
     "data": {
      "text/html": [
       "<div>\n",
       "<style scoped>\n",
       "    .dataframe tbody tr th:only-of-type {\n",
       "        vertical-align: middle;\n",
       "    }\n",
       "\n",
       "    .dataframe tbody tr th {\n",
       "        vertical-align: top;\n",
       "    }\n",
       "\n",
       "    .dataframe thead th {\n",
       "        text-align: right;\n",
       "    }\n",
       "</style>\n",
       "<table border=\"1\" class=\"dataframe\">\n",
       "  <thead>\n",
       "    <tr style=\"text-align: right;\">\n",
       "      <th></th>\n",
       "      <th>Timestamp</th>\n",
       "      <th>Sensor 1</th>\n",
       "      <th>Sensor 2</th>\n",
       "      <th>Sensor 3</th>\n",
       "      <th>Sensor 4</th>\n",
       "      <th>Label</th>\n",
       "    </tr>\n",
       "  </thead>\n",
       "  <tbody>\n",
       "    <tr>\n",
       "      <th>0</th>\n",
       "      <td>21-02-2020 12:35</td>\n",
       "      <td>2.79</td>\n",
       "      <td>2.78</td>\n",
       "      <td>1159.0</td>\n",
       "      <td>9.0</td>\n",
       "      <td>High Speed Normal</td>\n",
       "    </tr>\n",
       "    <tr>\n",
       "      <th>1</th>\n",
       "      <td>21-02-2020 12:35</td>\n",
       "      <td>2.84</td>\n",
       "      <td>2.78</td>\n",
       "      <td>1159.0</td>\n",
       "      <td>9.0</td>\n",
       "      <td>High Speed Normal</td>\n",
       "    </tr>\n",
       "    <tr>\n",
       "      <th>2</th>\n",
       "      <td>21-02-2020 12:35</td>\n",
       "      <td>2.82</td>\n",
       "      <td>2.80</td>\n",
       "      <td>1159.0</td>\n",
       "      <td>9.0</td>\n",
       "      <td>High Speed Normal</td>\n",
       "    </tr>\n",
       "    <tr>\n",
       "      <th>3</th>\n",
       "      <td>21-02-2020 12:35</td>\n",
       "      <td>2.81</td>\n",
       "      <td>2.80</td>\n",
       "      <td>1159.0</td>\n",
       "      <td>9.0</td>\n",
       "      <td>High Speed Normal</td>\n",
       "    </tr>\n",
       "    <tr>\n",
       "      <th>4</th>\n",
       "      <td>21-02-2020 12:35</td>\n",
       "      <td>2.82</td>\n",
       "      <td>2.76</td>\n",
       "      <td>1159.0</td>\n",
       "      <td>9.0</td>\n",
       "      <td>High Speed Normal</td>\n",
       "    </tr>\n",
       "  </tbody>\n",
       "</table>\n",
       "</div>"
      ],
      "text/plain": [
       "          Timestamp  Sensor 1  Sensor 2  Sensor 3  Sensor 4              Label\n",
       "0  21-02-2020 12:35      2.79      2.78    1159.0       9.0  High Speed Normal\n",
       "1  21-02-2020 12:35      2.84      2.78    1159.0       9.0  High Speed Normal\n",
       "2  21-02-2020 12:35      2.82      2.80    1159.0       9.0  High Speed Normal\n",
       "3  21-02-2020 12:35      2.81      2.80    1159.0       9.0  High Speed Normal\n",
       "4  21-02-2020 12:35      2.82      2.76    1159.0       9.0  High Speed Normal"
      ]
     },
     "execution_count": 8,
     "metadata": {},
     "output_type": "execute_result"
    }
   ],
   "source": [
    "data.head()"
   ]
  },
  {
   "cell_type": "code",
   "execution_count": 9,
   "metadata": {},
   "outputs": [
    {
     "name": "stdout",
     "output_type": "stream",
     "text": [
      "<class 'pandas.core.frame.DataFrame'>\n",
      "RangeIndex: 168697 entries, 0 to 168696\n",
      "Data columns (total 6 columns):\n",
      " #   Column     Non-Null Count   Dtype  \n",
      "---  ------     --------------   -----  \n",
      " 0   Timestamp  168697 non-null  object \n",
      " 1   Sensor 1   168697 non-null  float64\n",
      " 2   Sensor 2   168697 non-null  float64\n",
      " 3   Sensor 3   168697 non-null  float64\n",
      " 4   Sensor 4   168697 non-null  float64\n",
      " 5   Label      168697 non-null  object \n",
      "dtypes: float64(4), object(2)\n",
      "memory usage: 7.7+ MB\n"
     ]
    }
   ],
   "source": [
    "data.info()"
   ]
  },
  {
   "cell_type": "code",
   "execution_count": 10,
   "metadata": {},
   "outputs": [
    {
     "data": {
      "text/plain": [
       "High Speed Normal              102696\n",
       "Medium Speed Normal             65833\n",
       "Low Speed High Vibration          126\n",
       "Low Speed Normal                   31\n",
       "Medium Speed High Vibration         5\n",
       "High Speed High Current             4\n",
       "High Speed High Vibration           2\n",
       "Name: Label, dtype: int64"
      ]
     },
     "execution_count": 10,
     "metadata": {},
     "output_type": "execute_result"
    }
   ],
   "source": [
    "data[\"Label\"].value_counts()"
   ]
  },
  {
   "cell_type": "code",
   "execution_count": 11,
   "metadata": {},
   "outputs": [
    {
     "data": {
      "text/html": [
       "<div>\n",
       "<style scoped>\n",
       "    .dataframe tbody tr th:only-of-type {\n",
       "        vertical-align: middle;\n",
       "    }\n",
       "\n",
       "    .dataframe tbody tr th {\n",
       "        vertical-align: top;\n",
       "    }\n",
       "\n",
       "    .dataframe thead th {\n",
       "        text-align: right;\n",
       "    }\n",
       "</style>\n",
       "<table border=\"1\" class=\"dataframe\">\n",
       "  <thead>\n",
       "    <tr style=\"text-align: right;\">\n",
       "      <th></th>\n",
       "      <th>Sensor 1</th>\n",
       "      <th>Sensor 2</th>\n",
       "      <th>Sensor 3</th>\n",
       "      <th>Sensor 4</th>\n",
       "    </tr>\n",
       "  </thead>\n",
       "  <tbody>\n",
       "    <tr>\n",
       "      <th>count</th>\n",
       "      <td>168697.000000</td>\n",
       "      <td>168697.000000</td>\n",
       "      <td>168697.000000</td>\n",
       "      <td>168697.000000</td>\n",
       "    </tr>\n",
       "    <tr>\n",
       "      <th>mean</th>\n",
       "      <td>2.340096</td>\n",
       "      <td>2.348681</td>\n",
       "      <td>1168.297024</td>\n",
       "      <td>8.553074</td>\n",
       "    </tr>\n",
       "    <tr>\n",
       "      <th>std</th>\n",
       "      <td>0.614607</td>\n",
       "      <td>0.596306</td>\n",
       "      <td>36.957278</td>\n",
       "      <td>1.234726</td>\n",
       "    </tr>\n",
       "    <tr>\n",
       "      <th>min</th>\n",
       "      <td>1.470000</td>\n",
       "      <td>1.130000</td>\n",
       "      <td>605.000000</td>\n",
       "      <td>0.000000</td>\n",
       "    </tr>\n",
       "    <tr>\n",
       "      <th>25%</th>\n",
       "      <td>1.560000</td>\n",
       "      <td>1.610000</td>\n",
       "      <td>1148.000000</td>\n",
       "      <td>7.000000</td>\n",
       "    </tr>\n",
       "    <tr>\n",
       "      <th>50%</th>\n",
       "      <td>2.770000</td>\n",
       "      <td>2.780000</td>\n",
       "      <td>1159.000000</td>\n",
       "      <td>9.000000</td>\n",
       "    </tr>\n",
       "    <tr>\n",
       "      <th>75%</th>\n",
       "      <td>2.820000</td>\n",
       "      <td>2.820000</td>\n",
       "      <td>1209.000000</td>\n",
       "      <td>10.000000</td>\n",
       "    </tr>\n",
       "    <tr>\n",
       "      <th>max</th>\n",
       "      <td>8.820000</td>\n",
       "      <td>3.790000</td>\n",
       "      <td>1261.000000</td>\n",
       "      <td>13.000000</td>\n",
       "    </tr>\n",
       "  </tbody>\n",
       "</table>\n",
       "</div>"
      ],
      "text/plain": [
       "            Sensor 1       Sensor 2       Sensor 3       Sensor 4\n",
       "count  168697.000000  168697.000000  168697.000000  168697.000000\n",
       "mean        2.340096       2.348681    1168.297024       8.553074\n",
       "std         0.614607       0.596306      36.957278       1.234726\n",
       "min         1.470000       1.130000     605.000000       0.000000\n",
       "25%         1.560000       1.610000    1148.000000       7.000000\n",
       "50%         2.770000       2.780000    1159.000000       9.000000\n",
       "75%         2.820000       2.820000    1209.000000      10.000000\n",
       "max         8.820000       3.790000    1261.000000      13.000000"
      ]
     },
     "execution_count": 11,
     "metadata": {},
     "output_type": "execute_result"
    }
   ],
   "source": [
    "data.describe()\n"
   ]
  },
  {
   "cell_type": "code",
   "execution_count": 12,
   "metadata": {},
   "outputs": [
    {
     "data": {
      "text/plain": [
       "['Sensor 1', 'Sensor 2', 'Sensor 3', 'Sensor 4']"
      ]
     },
     "execution_count": 12,
     "metadata": {},
     "output_type": "execute_result"
    }
   ],
   "source": [
    "columns=[col for col in data.columns if not col.find('Sensor') ]\n",
    "columns"
   ]
  },
  {
   "cell_type": "code",
   "execution_count": 13,
   "metadata": {},
   "outputs": [
    {
     "data": {
      "image/png": "[encoded data removed]",
      "text/plain": [
       "<Figure size 432x288 with 1 Axes>"
      ]
     },
     "metadata": {
      "needs_background": "light"
     },
     "output_type": "display_data"
    },
    {
     "data": {
      "image/png": "[encoded data removed]",
      "text/plain": [
       "<Figure size 432x288 with 1 Axes>"
      ]
     },
     "metadata": {
      "needs_background": "light"
     },
     "output_type": "display_data"
    },
    {
     "data": {
      "image/png": "[encoded data removed]",
      "text/plain": [
       "<Figure size 432x288 with 1 Axes>"
      ]
     },
     "metadata": {
      "needs_background": "light"
     },
     "output_type": "display_data"
    },
    {
     "data": {
      "image/png": "[encoded data removed]",
      "text/plain": [
       "<Figure size 432x288 with 1 Axes>"
      ]
     },
     "metadata": {
      "needs_background": "light"
     },
     "output_type": "display_data"
    }
   ],
   "source": [
    "for col in columns:\n",
    "    data.plot.scatter(x=col,y='Label')"
   ]
  },
  {
   "cell_type": "code",
   "execution_count": 14,
   "metadata": {},
   "outputs": [
    {
     "data": {
      "text/html": [
       "<div>\n",
       "<style scoped>\n",
       "    .dataframe tbody tr th:only-of-type {\n",
       "        vertical-align: middle;\n",
       "    }\n",
       "\n",
       "    .dataframe tbody tr th {\n",
       "        vertical-align: top;\n",
       "    }\n",
       "\n",
       "    .dataframe thead th {\n",
       "        text-align: right;\n",
       "    }\n",
       "</style>\n",
       "<table border=\"1\" class=\"dataframe\">\n",
       "  <thead>\n",
       "    <tr style=\"text-align: right;\">\n",
       "      <th></th>\n",
       "      <th>Sensor 1</th>\n",
       "      <th>Sensor 2</th>\n",
       "      <th>Sensor 3</th>\n",
       "      <th>Sensor 4</th>\n",
       "    </tr>\n",
       "  </thead>\n",
       "  <tbody>\n",
       "    <tr>\n",
       "      <th>Sensor 1</th>\n",
       "      <td>1.000000</td>\n",
       "      <td>0.992006</td>\n",
       "      <td>0.424558</td>\n",
       "      <td>0.918957</td>\n",
       "    </tr>\n",
       "    <tr>\n",
       "      <th>Sensor 2</th>\n",
       "      <td>0.992006</td>\n",
       "      <td>1.000000</td>\n",
       "      <td>0.460436</td>\n",
       "      <td>0.921139</td>\n",
       "    </tr>\n",
       "    <tr>\n",
       "      <th>Sensor 3</th>\n",
       "      <td>0.424558</td>\n",
       "      <td>0.460436</td>\n",
       "      <td>1.000000</td>\n",
       "      <td>0.480065</td>\n",
       "    </tr>\n",
       "    <tr>\n",
       "      <th>Sensor 4</th>\n",
       "      <td>0.918957</td>\n",
       "      <td>0.921139</td>\n",
       "      <td>0.480065</td>\n",
       "      <td>1.000000</td>\n",
       "    </tr>\n",
       "  </tbody>\n",
       "</table>\n",
       "</div>"
      ],
      "text/plain": [
       "          Sensor 1  Sensor 2  Sensor 3  Sensor 4\n",
       "Sensor 1  1.000000  0.992006  0.424558  0.918957\n",
       "Sensor 2  0.992006  1.000000  0.460436  0.921139\n",
       "Sensor 3  0.424558  0.460436  1.000000  0.480065\n",
       "Sensor 4  0.918957  0.921139  0.480065  1.000000"
      ]
     },
     "execution_count": 14,
     "metadata": {},
     "output_type": "execute_result"
    }
   ],
   "source": [
    "corr=data.corr()\n",
    "corr"
   ]
  },
  {
   "cell_type": "code",
   "execution_count": 15,
   "metadata": {},
   "outputs": [
    {
     "data": {
      "text/plain": [
       "array(['High Speed Normal', 'Medium Speed Normal',\n",
       "       'Medium Speed High Vibration', 'Low Speed High Vibration',\n",
       "       'Low Speed Normal', 'High Speed High Current',\n",
       "       'High Speed High Vibration'], dtype=object)"
      ]
     },
     "execution_count": 15,
     "metadata": {},
     "output_type": "execute_result"
    }
   ],
   "source": [
    "classes=data['Label'].unique()\n",
    "classes"
   ]
  },
  {
   "cell_type": "code",
   "execution_count": 16,
   "metadata": {},
   "outputs": [],
   "source": [
    "data=data.drop(['Timestamp'], axis=1)"
   ]
  },
  {
   "cell_type": "code",
   "execution_count": 17,
   "metadata": {},
   "outputs": [
    {
     "data": {
      "text/plain": [
       "(5, 5)"
      ]
     },
     "execution_count": 17,
     "metadata": {},
     "output_type": "execute_result"
    }
   ],
   "source": [
    "h_s_n=data[data.Label=='High Speed Normal']\n",
    "m_s_n=data[data.Label=='Medium Speed Normal']\n",
    "m_s_h_v=data[data.Label=='Medium Speed High Vibration']\n",
    "l_s_h_v=data[data.Label=='Low Speed High Vibration']\n",
    "l_s_n=data[data.Label=='Low Speed Normal']\n",
    "h_s_h_c=data[data.Label=='High Speed High Current']\n",
    "h_s_h_v=data[data.Label=='High Speed High Vibration']\n",
    "m_s_h_v.shape"
   ]
  },
  {
   "cell_type": "markdown",
   "metadata": {},
   "source": [
    "# Kmean Clustering\n"
   ]
  },
  {
   "cell_type": "code",
   "execution_count": null,
   "metadata": {},
   "outputs": [],
   "source": []
  },
  {
   "cell_type": "code",
   "execution_count": 19,
   "metadata": {},
   "outputs": [
    {
     "name": "stdout",
     "output_type": "stream",
     "text": [
      "[0.79349494 0.17942786]\n",
      "[[ 0.90274319  0.61192656]\n",
      " [ 0.94695975  0.63196488]\n",
      " [ 0.94764448  0.63063565]\n",
      " ...\n",
      " [-3.10429783  3.6781379 ]\n",
      " [-3.10464019  3.67880252]\n",
      " [-3.10429783  3.6781379 ]]\n",
      "(168697, 2)\n"
     ]
    }
   ],
   "source": [
    "kmeandata=data.drop(['Label'], axis=1)\n",
    "from sklearn.preprocessing import StandardScaler\n",
    "std_data=StandardScaler().fit_transform(kmeandata)\n",
    "kmeandata=pd.DataFrame(std_data, columns=columns)\n",
    "from sklearn.decomposition import PCA\n",
    "from sklearn import decomposition\n",
    "pcaa = PCA(n_components=2)\n",
    "X = pcaa.fit_transform(kmeandata)\n",
    "print(pcaa.explained_variance_ratio_)\n",
    "print(X)\n",
    "print(X.shape)"
   ]
  },
  {
   "cell_type": "code",
   "execution_count": 20,
   "metadata": {},
   "outputs": [
    {
     "name": "stdout",
     "output_type": "stream",
     "text": [
      "        Sensor 1  Sensor 2  Sensor 3  Sensor 4                Label\n",
      "0           2.79      2.78    1159.0       9.0    High Speed Normal\n",
      "1           2.84      2.78    1159.0       9.0    High Speed Normal\n",
      "2           2.82      2.80    1159.0       9.0    High Speed Normal\n",
      "3           2.81      2.80    1159.0       9.0    High Speed Normal\n",
      "4           2.82      2.76    1159.0       9.0    High Speed Normal\n",
      "...          ...       ...       ...       ...                  ...\n",
      "168692      2.06      1.18    1000.0       8.0  Medium Speed Normal\n",
      "168693      2.07      1.15    1001.0       8.0  Medium Speed Normal\n",
      "168694      2.06      1.18    1001.0       8.0  Medium Speed Normal\n",
      "168695      2.07      1.17    1001.0       8.0  Medium Speed Normal\n",
      "168696      2.06      1.18    1001.0       8.0  Medium Speed Normal\n",
      "\n",
      "[168697 rows x 5 columns]\n",
      "            Sensor 1       Sensor 2       Sensor 3       Sensor 4\n",
      "count  168697.000000  168697.000000  168697.000000  168697.000000\n",
      "mean        2.340096       2.348681    1168.297024       8.553074\n",
      "std         0.614607       0.596306      36.957278       1.234726\n",
      "min         1.470000       1.130000     605.000000       0.000000\n",
      "25%         1.560000       1.610000    1148.000000       7.000000\n",
      "50%         2.770000       2.780000    1159.000000       9.000000\n",
      "75%         2.820000       2.820000    1209.000000      10.000000\n",
      "max         8.820000       3.790000    1261.000000      13.000000\n",
      "        Sensor 1  Sensor 2  Sensor 3  Sensor 4\n",
      "0       0.732022  0.723320 -0.251562  0.361965\n",
      "1       0.813375  0.723320 -0.251562  0.361965\n",
      "2       0.780833  0.756860 -0.251562  0.361965\n",
      "3       0.764563  0.756860 -0.251562  0.361965\n",
      "4       0.780833  0.689780 -0.251562  0.361965\n",
      "...          ...       ...       ...       ...\n",
      "168692 -0.455733 -1.959873 -4.553840 -0.447934\n",
      "168693 -0.439463 -2.010183 -4.526781 -0.447934\n",
      "168694 -0.455733 -1.959873 -4.526781 -0.447934\n",
      "168695 -0.439463 -1.976643 -4.526781 -0.447934\n",
      "168696 -0.455733 -1.959873 -4.526781 -0.447934\n",
      "\n",
      "[168697 rows x 4 columns]\n"
     ]
    }
   ],
   "source": [
    "print(data)\n",
    "print(data.describe())\n",
    "print(kmeandata)"
   ]
  },
  {
   "cell_type": "markdown",
   "metadata": {},
   "source": [
    "## PCA-loadings:"
   ]
  },
  {
   "cell_type": "code",
   "execution_count": 21,
   "metadata": {},
   "outputs": [
    {
     "name": "stdout",
     "output_type": "stream",
     "text": [
      "[[ 0.54351435  0.54774608  0.34075225  0.53707941]\n",
      " [ 0.24631304  0.19934737 -0.93772127  0.14237042]]\n"
     ]
    }
   ],
   "source": [
    "loadings=pcaa.components_\n",
    "print(loadings)"
   ]
  },
  {
   "cell_type": "code",
   "execution_count": 26,
   "metadata": {},
   "outputs": [
    {
     "data": {
      "text/plain": [
       "KMeans(n_clusters=7)"
      ]
     },
     "execution_count": 26,
     "metadata": {},
     "output_type": "execute_result"
    }
   ],
   "source": [
    "from sklearn.cluster import KMeans\n",
    "k=7 #number of cluster\n",
    "kmeans=KMeans(n_clusters=k)\n",
    "kmeans.fit(X)\n",
    "\n"
   ]
  },
  {
   "cell_type": "code",
   "execution_count": 27,
   "metadata": {},
   "outputs": [
    {
     "data": {
      "text/plain": [
       "<matplotlib.collections.PathCollection at 0x13257a09c10>"
      ]
     },
     "execution_count": 27,
     "metadata": {},
     "output_type": "execute_result"
    },
    {
     "data": {
      "image/png": "[encoded data removed]",
      "text/plain": [
       "<Figure size 432x288 with 1 Axes>"
      ]
     },
     "metadata": {
      "needs_background": "light"
     },
     "output_type": "display_data"
    }
   ],
   "source": [
    "plt.scatter(X[:,0],X[:,1],c=kmeans.labels_,cmap='brg')"
   ]
  },
  {
   "cell_type": "code",
   "execution_count": 28,
   "metadata": {},
   "outputs": [
    {
     "name": "stdout",
     "output_type": "stream",
     "text": [
      "656516.6342886896\n",
      "137809.75139144572\n",
      "71687.40526789447\n",
      "39125.96040875494\n",
      "23643.550842154615\n",
      "13393.454888689572\n",
      "9903.135530095014\n",
      "7727.0765320949695\n",
      "5836.158119322832\n"
     ]
    }
   ],
   "source": [
    "SSE = []\n",
    "index = range(1,10)\n",
    "for i in index:\n",
    "    kmeans = KMeans(n_clusters=i, random_state=42)\n",
    "    kmeans.fit(X)\n",
    "    SSE.append(kmeans.inertia_)\n",
    "    print(kmeans.inertia_)"
   ]
  },
  {
   "cell_type": "code",
   "execution_count": 29,
   "metadata": {},
   "outputs": [
    {
     "data": {
      "text/plain": [
       "Text(0, 0.5, 'SEE')"
      ]
     },
     "execution_count": 29,
     "metadata": {},
     "output_type": "execute_result"
    },
    {
     "data": {
      "image/png": "[encoded data removed]",
      "text/plain": [
       "<Figure size 432x288 with 1 Axes>"
      ]
     },
     "metadata": {
      "needs_background": "light"
     },
     "output_type": "display_data"
    }
   ],
   "source": [
    "plt.plot(index, SSE)\n",
    "plt.xlabel('K')\n",
    "plt.ylabel('SEE')"
   ]
  },
  {
   "cell_type": "code",
   "execution_count": 30,
   "metadata": {},
   "outputs": [
    {
     "ename": "NameError",
     "evalue": "name 'y_kmeans' is not defined",
     "output_type": "error",
     "traceback": [
      "\u001b[1;31m---------------------------------------------------------------------------\u001b[0m",
      "\u001b[1;31mNameError\u001b[0m                                 Traceback (most recent call last)",
      "\u001b[1;32m<ipython-input-30-cd20072e0c18>\u001b[0m in \u001b[0;36m<module>\u001b[1;34m\u001b[0m\n\u001b[0;32m      1\u001b[0m \u001b[0mget_ipython\u001b[0m\u001b[1;33m(\u001b[0m\u001b[1;33m)\u001b[0m\u001b[1;33m.\u001b[0m\u001b[0mrun_line_magic\u001b[0m\u001b[1;33m(\u001b[0m\u001b[1;34m'matplotlib'\u001b[0m\u001b[1;33m,\u001b[0m \u001b[1;34m'inline '\u001b[0m\u001b[1;33m)\u001b[0m\u001b[1;33m\u001b[0m\u001b[1;33m\u001b[0m\u001b[0m\n\u001b[0;32m      2\u001b[0m \u001b[1;32mimport\u001b[0m \u001b[0mmatplotlib\u001b[0m\u001b[1;33m.\u001b[0m\u001b[0mpyplot\u001b[0m \u001b[1;32mas\u001b[0m \u001b[0mplt\u001b[0m\u001b[1;33m\u001b[0m\u001b[1;33m\u001b[0m\u001b[0m\n\u001b[1;32m----> 3\u001b[1;33m \u001b[0mplt\u001b[0m\u001b[1;33m.\u001b[0m\u001b[0mscatter\u001b[0m\u001b[1;33m(\u001b[0m\u001b[0mX\u001b[0m\u001b[1;33m[\u001b[0m\u001b[0my_kmeans\u001b[0m\u001b[1;33m==\u001b[0m\u001b[1;36m0\u001b[0m\u001b[1;33m,\u001b[0m \u001b[1;36m0\u001b[0m\u001b[1;33m]\u001b[0m\u001b[1;33m,\u001b[0m \u001b[0mX\u001b[0m\u001b[1;33m[\u001b[0m\u001b[0my_kmeans\u001b[0m\u001b[1;33m==\u001b[0m\u001b[1;36m0\u001b[0m\u001b[1;33m,\u001b[0m \u001b[1;36m1\u001b[0m\u001b[1;33m]\u001b[0m\u001b[1;33m,\u001b[0m \u001b[0ms\u001b[0m\u001b[1;33m=\u001b[0m\u001b[1;36m100\u001b[0m\u001b[1;33m,\u001b[0m \u001b[0mc\u001b[0m\u001b[1;33m=\u001b[0m\u001b[1;34m'red'\u001b[0m\u001b[1;33m,\u001b[0m \u001b[0mlabel\u001b[0m \u001b[1;33m=\u001b[0m\u001b[1;34m'Cluster 1'\u001b[0m\u001b[1;33m)\u001b[0m\u001b[1;33m\u001b[0m\u001b[1;33m\u001b[0m\u001b[0m\n\u001b[0m\u001b[0;32m      4\u001b[0m \u001b[0mplt\u001b[0m\u001b[1;33m.\u001b[0m\u001b[0mscatter\u001b[0m\u001b[1;33m(\u001b[0m\u001b[0mX\u001b[0m\u001b[1;33m[\u001b[0m\u001b[0my_kmeans\u001b[0m\u001b[1;33m==\u001b[0m\u001b[1;36m1\u001b[0m\u001b[1;33m,\u001b[0m \u001b[1;36m0\u001b[0m\u001b[1;33m]\u001b[0m\u001b[1;33m,\u001b[0m \u001b[0mX\u001b[0m\u001b[1;33m[\u001b[0m\u001b[0my_kmeans\u001b[0m\u001b[1;33m==\u001b[0m\u001b[1;36m1\u001b[0m\u001b[1;33m,\u001b[0m \u001b[1;36m1\u001b[0m\u001b[1;33m]\u001b[0m\u001b[1;33m,\u001b[0m \u001b[0ms\u001b[0m\u001b[1;33m=\u001b[0m\u001b[1;36m100\u001b[0m\u001b[1;33m,\u001b[0m \u001b[0mc\u001b[0m\u001b[1;33m=\u001b[0m\u001b[1;34m'blue'\u001b[0m\u001b[1;33m,\u001b[0m \u001b[0mlabel\u001b[0m \u001b[1;33m=\u001b[0m\u001b[1;34m'Cluster 2'\u001b[0m\u001b[1;33m)\u001b[0m\u001b[1;33m\u001b[0m\u001b[1;33m\u001b[0m\u001b[0m\n\u001b[0;32m      5\u001b[0m \u001b[0mplt\u001b[0m\u001b[1;33m.\u001b[0m\u001b[0mscatter\u001b[0m\u001b[1;33m(\u001b[0m\u001b[0mX\u001b[0m\u001b[1;33m[\u001b[0m\u001b[0my_kmeans\u001b[0m\u001b[1;33m==\u001b[0m\u001b[1;36m2\u001b[0m\u001b[1;33m,\u001b[0m \u001b[1;36m0\u001b[0m\u001b[1;33m]\u001b[0m\u001b[1;33m,\u001b[0m \u001b[0mX\u001b[0m\u001b[1;33m[\u001b[0m\u001b[0my_kmeans\u001b[0m\u001b[1;33m==\u001b[0m\u001b[1;36m2\u001b[0m\u001b[1;33m,\u001b[0m \u001b[1;36m1\u001b[0m\u001b[1;33m]\u001b[0m\u001b[1;33m,\u001b[0m \u001b[0ms\u001b[0m\u001b[1;33m=\u001b[0m\u001b[1;36m100\u001b[0m\u001b[1;33m,\u001b[0m \u001b[0mc\u001b[0m\u001b[1;33m=\u001b[0m\u001b[1;34m'green'\u001b[0m\u001b[1;33m,\u001b[0m \u001b[0mlabel\u001b[0m \u001b[1;33m=\u001b[0m\u001b[1;34m'Cluster 3'\u001b[0m\u001b[1;33m)\u001b[0m\u001b[1;33m\u001b[0m\u001b[1;33m\u001b[0m\u001b[0m\n",
      "\u001b[1;31mNameError\u001b[0m: name 'y_kmeans' is not defined"
     ]
    }
   ],
   "source": [
    "%matplotlib inline \n",
    "import matplotlib.pyplot as plt\n",
    "plt.scatter(X[y_kmeans==0, 0], X[y_kmeans==0, 1], s=100, c='red', label ='Cluster 1')\n",
    "plt.scatter(X[y_kmeans==1, 0], X[y_kmeans==1, 1], s=100, c='blue', label ='Cluster 2')\n",
    "plt.scatter(X[y_kmeans==2, 0], X[y_kmeans==2, 1], s=100, c='green', label ='Cluster 3')\n",
    "plt.scatter(X[y_kmeans==3, 0], X[y_kmeans==3, 1], s=100, c='cyan', label ='Cluster 4')\n",
    "plt.scatter(X[y_kmeans==4, 0], X[y_kmeans==4, 1], s=100, c='magenta', label ='Cluster 5')\n",
    "plt.scatter(X[y_kmeans==5, 0], X[y_kmeans==5, 1], s=100, c='black', label ='Cluster 6')\n",
    "plt.scatter(X[y_kmeans==6, 0], X[y_kmeans==6, 1], s=100, c='grey', label ='Cluster 7')\n",
    "plt.scatter(centroids[:, 0], centroids[:, 1], s=20, c='yellow', label = 'Centroids')\n",
    "plt.title('Clusters of operation modes')\n",
    "#plt.scatter(X[50297][0], X[50297][1], s=50, c='brown', label ='Cluster 1')\n",
    "\n",
    "plt.show()\n"
   ]
  },
  {
   "cell_type": "code",
   "execution_count": 33,
   "metadata": {},
   "outputs": [
    {
     "name": "stdout",
     "output_type": "stream",
     "text": [
      "[[ 1.84259552 -0.54458829]\n",
      " [-2.18689986 -0.20404053]\n",
      " [ 0.9685562   0.65259901]\n",
      " [-2.89736078  3.62289893]\n",
      " [-2.32430333 15.38198288]\n",
      " [ 2.13471268 -1.87156035]\n",
      " [ 1.44930019  0.77478731]\n",
      " [-0.06505399  5.13966491]\n",
      " [ 1.38038232 -0.6629308 ]]\n"
     ]
    }
   ],
   "source": [
    "centroids=kmeans.cluster_centers_\n",
    "print(centroids)"
   ]
  },
  {
   "cell_type": "code",
   "execution_count": 23,
   "metadata": {},
   "outputs": [
    {
     "name": "stdout",
     "output_type": "stream",
     "text": [
      "[[    0 38334]\n",
      " [    1 64273]\n",
      " [    2  1292]\n",
      " [    3 33682]\n",
      " [    4 24604]\n",
      " [    5   142]\n",
      " [    6  6370]]\n"
     ]
    }
   ],
   "source": [
    "unique,count=np.unique(y_kmeans, return_counts=True)\n",
    "print(np.asarray((unique, count)).T)"
   ]
  },
  {
   "cell_type": "code",
   "execution_count": 24,
   "metadata": {},
   "outputs": [],
   "source": [
    "reduced_data=pd.DataFrame(X, columns=['X','Y'])\n",
    "reduced_data['cluster']=y_kmeans\n",
    "cluster={}\n",
    "cluster[0]=reduced_data[reduced_data.cluster==0].values\n",
    "cluster[1]=reduced_data[reduced_data.cluster==1].values\n",
    "cluster[2]=reduced_data[reduced_data.cluster==2].values\n",
    "cluster[3]=reduced_data[reduced_data.cluster==3].values\n",
    "cluster[4]=reduced_data[reduced_data.cluster==4].values\n",
    "cluster[5]=reduced_data[reduced_data.cluster==5].values\n",
    "cluster[6]=reduced_data[reduced_data.cluster==6].values\n",
    "\n",
    "\n"
   ]
  },
  {
   "cell_type": "code",
   "execution_count": 25,
   "metadata": {},
   "outputs": [],
   "source": [
    "import math\n",
    "def maxdistpoint(k,df):\n",
    "    maxx=0\n",
    "    #print(df)\n",
    "    for i in range(len(df)):\n",
    "        dist=math.sqrt(pow(centroids[k][0]-df[i][0],2)+pow(centroids[k][1]-df[i][1],2))\n",
    "        maxx=max(maxx,dist)\n",
    "        \n",
    "    return maxx\n"
   ]
  },
  {
   "cell_type": "code",
   "execution_count": 26,
   "metadata": {},
   "outputs": [
    {
     "name": "stdout",
     "output_type": "stream",
     "text": [
      "For centroid : [ 1.62300744 -0.60083277]\n",
      "0.9564171663325923\n",
      "For centroid : [-2.18689986 -0.20404053]\n",
      "2.788175733724708\n",
      "For centroid : [-2.39459547  3.83291676]\n",
      "4.318948685224209\n",
      "For centroid : [0.96764786 0.65322029]\n",
      "1.9851545826292265\n",
      "For centroid : [1.44822519 0.77325402]\n",
      "5.860694731460153\n",
      "For centroid : [-2.24804402 14.83259245]\n",
      "5.140272242363994\n",
      "For centroid : [ 2.13471268 -1.87156035]\n",
      "1.6640428385139765\n"
     ]
    }
   ],
   "source": [
    "radius=[]\n",
    "for i in range(0,7):\n",
    "    print(\"For centroid :\",centroids[i])\n",
    "    maxx=maxdistpoint(i,cluster[i])\n",
    "    radius.append(maxx)\n",
    "    print(maxx)\n",
    "    \n",
    "    \n",
    "\n",
    "\n"
   ]
  },
  {
   "cell_type": "code",
   "execution_count": 27,
   "metadata": {},
   "outputs": [
    {
     "name": "stdout",
     "output_type": "stream",
     "text": [
      "0.9564171663325923\n",
      "2.788175733724708\n",
      "4.318948685224209\n",
      "1.9851545826292265\n",
      "5.860694731460153\n",
      "5.140272242363994\n",
      "1.6640428385139765\n"
     ]
    }
   ],
   "source": [
    "for i in range(0,7):\n",
    "    print(radius[i])"
   ]
  },
  {
   "cell_type": "code",
   "execution_count": 28,
   "metadata": {},
   "outputs": [
    {
     "data": {
      "image/png": "[encoded data removed]",
      "text/plain": [
       "<Figure size 720x576 with 1 Axes>"
      ]
     },
     "metadata": {
      "needs_background": "light"
     },
     "output_type": "display_data"
    }
   ],
   "source": [
    "color=['red','green','blue', 'orange','cyan', 'violet', 'purple']\n",
    "%matplotlib inline \n",
    "import matplotlib.pyplot as plt\n",
    "plt.rcParams[\"figure.figsize\"]=(10,8)\n",
    "fig, ax = plt.subplots()\n",
    "    \n",
    "    \n",
    "\n",
    "\n",
    "plt.xlim([-8,8])\n",
    "plt.ylim([-6,22])\n",
    "plt.scatter(X[y_kmeans==0, 0], X[y_kmeans==0, 1], s=100, c='red', label ='Cluster 1')\n",
    "plt.scatter(X[y_kmeans==1, 0], X[y_kmeans==1, 1], s=100, c='blue', label ='Cluster 2')\n",
    "plt.scatter(X[y_kmeans==2, 0], X[y_kmeans==2, 1], s=100, c='green', label ='Cluster 3')\n",
    "plt.scatter(X[y_kmeans==3, 0], X[y_kmeans==3, 1], s=100, c='cyan', label ='Cluster 4')\n",
    "plt.scatter(X[y_kmeans==4, 0], X[y_kmeans==4, 1], s=100, c='magenta', label ='Cluster 5')\n",
    "plt.scatter(X[y_kmeans==5, 0], X[y_kmeans==5, 1], s=100, c='black', label ='Cluster 6')\n",
    "plt.scatter(X[y_kmeans==6, 0], X[y_kmeans==6, 1], s=100, c='grey', label ='Cluster 7')\n",
    "plt.scatter(centroids[:, 0], centroids[:, 1], s=20, c='yellow', label = 'Centroids')\n",
    "\n",
    "for i in range(0,7):\n",
    "    circle1 = plt.Circle((centroids[i][0], centroids[i][1]), radius[i] , color=color[i],fill= False)\n",
    "    ax.add_artist(circle1)\n",
    "plt.title('Clusters of operation modes')\n",
    "\n",
    "#plt.scatter(X[50297][0], X[50297][1], s=50, c='brown', label ='Cluster 1')\n",
    "\n",
    "plt.show()"
   ]
  },
  {
   "cell_type": "code",
   "execution_count": 29,
   "metadata": {},
   "outputs": [],
   "source": [
    "#import random\n",
    "#print (random.randrange(14.5,100))\n",
    "#sensor1_test=[]\n",
    "#sensor2_test=[]\n",
    "#sensor3_test=[]\n",
    "#sensor4_test=[]\n",
    "#for i in range(0,60):\n",
    " #   sens1=random.randrange(0,10)\n",
    "  #  sensor1_test.append(sens1)\n",
    "   # sens2=random.randrange(0,5)\n",
    "    #sensor2_test.append(sens2)\n",
    "   # sens3=random.randrange(531,1334)\n",
    "   # sensor3_test.append(sens3)\n",
    "    #sens4=random.randrange(0,15)\n",
    "    #sensor4_test.append(sens4)\n",
    "    \n",
    "#print(sensor1_test)\n",
    "#print(sensor2_test)\n",
    "#print(sensor3_test)\n",
    "#print(sensor4_test)"
   ]
  },
  {
   "cell_type": "code",
   "execution_count": 30,
   "metadata": {},
   "outputs": [],
   "source": [
    "#dataframe=pd.DataFrame({'sensor1':sensor1_test,'sensor2':sensor2_test,'sensor3':sensor3_test,\"sensor4\":sensor4_test})\n",
    "#dataframe.head(20)"
   ]
  },
  {
   "cell_type": "code",
   "execution_count": 31,
   "metadata": {},
   "outputs": [],
   "source": [
    "dataframe=pd.read_csv(\"C:/Users/SHUBHAM/Desktop/data/sensor/newdata.csv\")"
   ]
  },
  {
   "cell_type": "code",
   "execution_count": 32,
   "metadata": {},
   "outputs": [
    {
     "data": {
      "text/plain": [
       "array([[3.000e+00, 1.000e+00, 7.290e+02, 9.000e+00],\n",
       "       [7.000e+00, 4.000e+00, 9.800e+02, 7.000e+00],\n",
       "       [8.000e+00, 2.000e+00, 6.760e+02, 1.000e+01],\n",
       "       [5.000e+00, 1.000e+00, 1.131e+03, 4.000e+00],\n",
       "       [4.000e+00, 1.000e+00, 5.830e+02, 2.000e+00],\n",
       "       [2.000e+00, 1.000e+00, 9.380e+02, 6.000e+00],\n",
       "       [5.000e+00, 4.000e+00, 5.900e+02, 2.000e+00],\n",
       "       [6.000e+00, 1.000e+00, 9.950e+02, 4.000e+00],\n",
       "       [8.000e+00, 3.000e+00, 6.190e+02, 2.000e+00],\n",
       "       [7.000e+00, 3.000e+00, 7.250e+02, 1.000e+01],\n",
       "       [1.000e+00, 2.000e+00, 6.210e+02, 0.000e+00],\n",
       "       [8.000e+00, 3.000e+00, 9.430e+02, 6.000e+00],\n",
       "       [6.000e+00, 2.000e+00, 5.710e+02, 9.000e+00],\n",
       "       [4.000e+00, 0.000e+00, 1.142e+03, 0.000e+00],\n",
       "       [0.000e+00, 1.000e+00, 8.590e+02, 0.000e+00],\n",
       "       [4.000e+00, 3.000e+00, 1.187e+03, 8.000e+00],\n",
       "       [1.000e+00, 4.000e+00, 1.192e+03, 1.400e+01],\n",
       "       [9.000e+00, 0.000e+00, 9.240e+02, 0.000e+00],\n",
       "       [2.000e+00, 2.000e+00, 1.048e+03, 1.000e+00],\n",
       "       [8.000e+00, 2.000e+00, 1.165e+03, 1.300e+01],\n",
       "       [2.000e+00, 2.000e+00, 6.090e+02, 4.000e+00],\n",
       "       [2.000e+00, 4.000e+00, 8.330e+02, 1.200e+01],\n",
       "       [1.000e+00, 2.000e+00, 7.020e+02, 9.000e+00],\n",
       "       [0.000e+00, 3.000e+00, 1.202e+03, 0.000e+00],\n",
       "       [0.000e+00, 3.000e+00, 8.300e+02, 1.300e+01],\n",
       "       [5.000e+00, 3.000e+00, 7.710e+02, 6.000e+00],\n",
       "       [6.000e+00, 3.000e+00, 1.023e+03, 1.200e+01],\n",
       "       [9.000e+00, 1.000e+00, 9.990e+02, 1.000e+00],\n",
       "       [2.000e+00, 0.000e+00, 7.980e+02, 0.000e+00],\n",
       "       [6.000e+00, 2.000e+00, 8.160e+02, 0.000e+00],\n",
       "       [0.000e+00, 4.000e+00, 6.730e+02, 4.000e+00],\n",
       "       [3.000e+00, 3.000e+00, 1.165e+03, 5.000e+00],\n",
       "       [5.000e+00, 1.000e+00, 7.730e+02, 3.000e+00],\n",
       "       [5.000e+00, 2.000e+00, 9.960e+02, 1.000e+00],\n",
       "       [1.000e+00, 0.000e+00, 8.080e+02, 9.000e+00],\n",
       "       [3.000e+00, 2.000e+00, 8.130e+02, 2.000e+00],\n",
       "       [3.000e+00, 4.000e+00, 8.600e+02, 8.000e+00],\n",
       "       [3.000e+00, 0.000e+00, 9.800e+02, 6.000e+00],\n",
       "       [8.000e+00, 0.000e+00, 1.100e+03, 0.000e+00],\n",
       "       [8.000e+00, 2.000e+00, 6.730e+02, 2.000e+00],\n",
       "       [7.000e+00, 3.000e+00, 1.268e+03, 2.000e+00],\n",
       "       [6.000e+00, 3.000e+00, 9.170e+02, 4.000e+00],\n",
       "       [0.000e+00, 3.000e+00, 8.810e+02, 4.000e+00],\n",
       "       [5.000e+00, 3.000e+00, 1.239e+03, 8.000e+00],\n",
       "       [8.000e+00, 4.000e+00, 1.311e+03, 1.200e+01],\n",
       "       [5.000e+00, 2.000e+00, 9.700e+02, 1.300e+01],\n",
       "       [1.000e+00, 0.000e+00, 8.980e+02, 7.000e+00],\n",
       "       [5.000e+00, 0.000e+00, 9.330e+02, 6.000e+00],\n",
       "       [9.000e+00, 0.000e+00, 1.330e+03, 1.000e+00],\n",
       "       [4.000e+00, 0.000e+00, 5.330e+02, 1.000e+01],\n",
       "       [1.000e+00, 3.000e+00, 7.900e+02, 1.400e+01],\n",
       "       [3.000e+00, 1.000e+00, 7.020e+02, 2.000e+00],\n",
       "       [2.000e+00, 3.000e+00, 8.120e+02, 5.000e+00],\n",
       "       [3.000e+00, 2.000e+00, 1.267e+03, 3.000e+00],\n",
       "       [7.000e+00, 1.000e+00, 1.211e+03, 5.000e+00],\n",
       "       [7.000e+00, 0.000e+00, 9.960e+02, 8.000e+00],\n",
       "       [2.000e+00, 0.000e+00, 8.280e+02, 1.300e+01],\n",
       "       [2.000e+00, 1.000e+00, 1.075e+03, 8.000e+00],\n",
       "       [9.000e+00, 3.000e+00, 1.088e+03, 1.000e+01],\n",
       "       [0.000e+00, 0.000e+00, 1.203e+03, 1.000e+01]])"
      ]
     },
     "execution_count": 32,
     "metadata": {},
     "output_type": "execute_result"
    }
   ],
   "source": [
    "newdata=dataframe.values\n",
    "\n",
    "newdata=newdata.astype(float)\n",
    "newdata"
   ]
  },
  {
   "cell_type": "code",
   "execution_count": 33,
   "metadata": {},
   "outputs": [
    {
     "name": "stdout",
     "output_type": "stream",
     "text": [
      "[2.340095970882707, 2.348681126516773, 1168.2970236578008, 8.553074447085603]\n",
      "[0.6146067533352249, 0.5963061845451072, 36.957278352448256, 1.2347256369347526]\n",
      "[[ 0.54351435  0.54774608  0.34075225  0.53707941]\n",
      " [ 0.24631304  0.19934737 -0.93772127  0.14237042]]\n"
     ]
    }
   ],
   "source": [
    "ddescribe=data.describe()\n",
    "\n",
    "ddescribe=ddescribe.values.tolist()\n",
    "data_mean=ddescribe[1]\n",
    "data_stdiv=ddescribe[2]\n",
    "print(data_mean)\n",
    "print(data_stdiv)\n",
    "print(loadings)\n"
   ]
  },
  {
   "cell_type": "code",
   "execution_count": 34,
   "metadata": {},
   "outputs": [
    {
     "name": "stdout",
     "output_type": "stream",
     "text": [
      "[[  1.07370123  -2.26172587 -11.88661728   0.36196345]\n",
      " [  7.5819278    2.7692466   -5.09499162  -1.25782959]\n",
      " [  9.20898444  -0.58473505 -13.32070557   1.17185997]\n",
      " [  4.32781452  -2.26172587  -1.00919292  -3.68751916]\n",
      " [  2.70075788  -2.26172587 -15.83712464  -5.30731221]\n",
      " [ -0.55335541  -2.26172587  -6.23143895  -2.06772612]\n",
      " [  4.32781452   2.7692466  -15.64771675  -5.30731221]\n",
      " [  5.95487116  -2.26172587  -4.68911758  -3.68751916]\n",
      " [  9.20898444   1.09225577 -14.86302694  -5.30731221]\n",
      " [  7.5819278    1.09225577 -11.99485036   1.17185997]\n",
      " [ -2.18041205  -0.58473505 -14.8089104   -6.92710525]\n",
      " [  9.20898444   1.09225577  -6.0961476   -2.06772612]\n",
      " [  5.95487116  -0.58473505 -16.16182388   0.36196345]\n",
      " [  2.70075788  -3.9387167   -0.71155195  -6.92710525]\n",
      " [ -3.80746869  -2.26172587  -8.36904224  -6.92710525]\n",
      " [  2.70075788   1.09225577   0.50607018  -0.44793307]\n",
      " [ -2.18041205   2.7692466    0.64136152   4.41144607]\n",
      " [ 10.83604108  -3.9387167   -6.61025472  -6.92710525]\n",
      " [ -0.55335541  -0.58473505  -3.25502929  -6.11720873]\n",
      " [  9.20898444  -0.58473505  -0.08921175   3.60154954]\n",
      " [ -0.55335541  -0.58473505 -15.13360963  -3.68751916]\n",
      " [ -0.55335541   2.7692466   -9.07255725   2.79165302]\n",
      " [ -2.18041205  -0.58473505 -12.61719056   0.36196345]\n",
      " [ -3.80746869   1.09225577   0.91194422  -6.92710525]\n",
      " [ -3.80746869   1.09225577  -9.15373206   3.60154954]\n",
      " [  4.32781452   1.09225577 -10.75016996  -2.06772612]\n",
      " [  5.95487116   1.09225577  -3.93148603   2.79165302]\n",
      " [ 10.83604108  -2.26172587  -4.5808845   -6.11720873]\n",
      " [ -0.55335541  -3.9387167  -10.01959668  -6.92710525]\n",
      " [  5.95487116  -0.58473505  -9.53254783  -6.92710525]\n",
      " [ -3.80746869   2.7692466  -13.40188038  -3.68751916]\n",
      " [  1.07370123   1.09225577  -0.08921175  -2.87762264]\n",
      " [  4.32781452  -2.26172587 -10.69605342  -4.49741569]\n",
      " [  4.32781452  -0.58473505  -4.66205931  -6.11720873]\n",
      " [ -2.18041205  -3.9387167   -9.74901399   0.36196345]\n",
      " [  1.07370123  -0.58473505  -9.61372264  -5.30731221]\n",
      " [  1.07370123   2.7692466   -8.34198397  -0.44793307]\n",
      " [  1.07370123  -3.9387167   -5.09499162  -2.06772612]\n",
      " [  9.20898444  -3.9387167   -1.84799928  -6.92710525]\n",
      " [  9.20898444  -0.58473505 -13.40188038  -5.30731221]\n",
      " [  7.5819278    1.09225577   2.69779001  -5.30731221]\n",
      " [  5.95487116   1.09225577  -6.79966261  -3.68751916]\n",
      " [ -3.80746869   1.09225577  -7.77376031  -3.68751916]\n",
      " [  4.32781452   1.09225577   1.91310019  -0.44793307]\n",
      " [  9.20898444   2.7692466    3.8612956    2.79165302]\n",
      " [  4.32781452  -0.58473505  -5.36557432   3.60154954]\n",
      " [ -2.18041205  -3.9387167   -7.31376973  -1.25782959]\n",
      " [  4.32781452  -3.9387167   -6.36673029  -2.06772612]\n",
      " [ 10.83604108  -3.9387167    4.37540272  -6.11720873]\n",
      " [  2.70075788  -3.9387167  -17.19003812   1.17185997]\n",
      " [ -2.18041205   1.09225577 -10.23606284   4.41144607]\n",
      " [  1.07370123  -2.26172587 -12.61719056  -5.30731221]\n",
      " [ -0.55335541   1.09225577  -9.64078091  -2.87762264]\n",
      " [  1.07370123  -0.58473505   2.67073174  -4.49741569]\n",
      " [  7.5819278   -2.26172587   1.15546865  -2.87762264]\n",
      " [  7.5819278   -3.9387167   -4.66205931  -0.44793307]\n",
      " [ -0.55335541  -3.9387167   -9.2078486    3.60154954]\n",
      " [ -0.55335541  -2.26172587  -2.52445602  -0.44793307]\n",
      " [ 10.83604108   1.09225577  -2.17269851   1.17185997]\n",
      " [ -3.80746869  -3.9387167    0.93900249   1.17185997]]\n"
     ]
    }
   ],
   "source": [
    "for i in range(len(newdata)):\n",
    "    for j in range(0,4):\n",
    "        newdata[i][j]=float((newdata[i][j]-data_mean[j])/data_stdiv[j])\n",
    "print(newdata)\n",
    "#kya bolra hai awaj cut cut ke aari hai"
   ]
  },
  {
   "cell_type": "code",
   "execution_count": 35,
   "metadata": {},
   "outputs": [],
   "source": [
    "newdatakmean=[]\n",
    "\n",
    "for i in range(len(newdata)):\n",
    "    a=0\n",
    "    b=0\n",
    "    for j in range(0,4):\n",
    "        a+=newdata[i][j]*loadings[0][j]\n",
    "        b+=newdata[i][j]*loadings[1][j]\n",
    "    newdatakmean.append([a,b])\n",
    "        "
   ]
  },
  {
   "cell_type": "code",
   "execution_count": 36,
   "metadata": {},
   "outputs": [
    {
     "name": "stdout",
     "output_type": "stream",
     "text": [
      "[[-4.511267896331884, 11.011464219492398], [3.226046323594264, 7.018173981801036], [0.7752503784293925, 14.809674635161935], [-1.210997519913429, 1.0364760478760102], [-8.017934724383334, 14.309567120271389], [-4.7735180285776995, 4.961802040527721], [-4.313369489451475, 15.535631732965346], [-1.580611484198873, 4.887984929593061], [-2.311563895877976, 15.667803466845378], [1.2612750271772883, 13.49993046458343], [-10.271946668597604, 12.246786082505041], [2.4156849261711733, 7.908135469873097], [-2.396503094466622, 16.557015868797304], [-4.6523844474540565, -0.4389184120497298], [-9.88044089573637, 5.4729157667866195], [1.9980484087597101, 0.344645008693749], [2.9196009247076162, 0.041619194955070826], [-2.2407374833034623, 7.096246932360531], [-5.0156283177419585, 1.9285366036535976], [6.588847880793402, 2.748137382482405], [-7.758345051343772, 13.413249938754138], [-0.37606758895791437, 9.32072208146708], [-5.610304518239014, 11.229311516991428], [-4.880793600093439, -2.561455192274967], [-2.6559717670665663, 8.376312489533444], [-1.8231695784511353, 11.07001544208449], [3.994513402487307, 5.768587584380242], [-0.19568113092222372, 5.642872340796756], [-9.592778899653586, 7.487902576749493], [-4.052371062794116, 9.30285499075887], [-7.099781404734661, 11.656447502752865], [-0.39406011627501125, 0.1561723618165698], [-4.946795763531894, 10.004745862652571], [-2.842091042490711, 4.450234359527049], [-6.470097188937274, 7.871153905025804], [-5.863059992974003, 8.407289160481472], [-0.9827094346509607, 8.575192024543378], [-4.420507552893601, 3.962592759071756], [-1.5023168709160442, 2.2298134563426144], [-2.7322400650245573, 13.963351546005043], [2.7879953303152982, -1.2001133367802677], [-0.46265415982922997, 7.535695325548079], [-6.100551978688638, 6.044535893854202], [3.3618256905535495, -0.5739917028032665], [9.337143691428318, -0.4030352538636033], [2.1379295535124587, 6.493598996416795], [-6.510239716919406, 5.356962959416494], [-3.0851980858908776, 5.956659679563491], [1.9376287380373731, -3.0899323955770686], [-5.917678233748751, 16.16636157834276], [-1.7054710328014813, 9.907307649144599], [-7.805063585541232, 10.889401191132208], [-4.5331074250362136, 8.712116645427594], [-1.2421257939107977, -2.9967996806171655], [1.7302517979188516, -0.07653731432131972], [0.1342871496038517, 5.39029457416021], [-3.661450253201863, 8.225678085834208], [-2.640397772616859, 1.716295913479622], [6.376852637225257, 5.091020293491299], [-3.277481435085754, -2.436686420573165]]\n"
     ]
    },
    {
     "data": {
      "text/plain": [
       "array([4])"
      ]
     },
     "execution_count": 36,
     "metadata": {},
     "output_type": "execute_result"
    }
   ],
   "source": [
    "print(newdatakmean)\n",
    "kmeans.predict([newdatakmean[9]])"
   ]
  },
  {
   "cell_type": "code",
   "execution_count": 37,
   "metadata": {},
   "outputs": [
    {
     "data": {
      "image/png": "[encoded data removed]",
      "text/plain": [
       "<Figure size 720x576 with 1 Axes>"
      ]
     },
     "metadata": {
      "needs_background": "light"
     },
     "output_type": "display_data"
    }
   ],
   "source": [
    "color=['red','green','blue', 'orange','cyan', 'violet', 'purple']\n",
    "%matplotlib inline \n",
    "import matplotlib.pyplot as plt\n",
    "plt.rcParams[\"figure.figsize\"]=(10,8)\n",
    "fig, ax = plt.subplots()\n",
    "    \n",
    "    \n",
    "\n",
    "\n",
    "plt.xlim([-12,12])\n",
    "plt.ylim([-10,22])\n",
    "plt.scatter(X[y_kmeans==0, 0], X[y_kmeans==0, 1], s=100, c='red', label ='Cluster 1')\n",
    "plt.scatter(X[y_kmeans==1, 0], X[y_kmeans==1, 1], s=100, c='blue', label ='Cluster 2')\n",
    "plt.scatter(X[y_kmeans==2, 0], X[y_kmeans==2, 1], s=100, c='green', label ='Cluster 3')\n",
    "plt.scatter(X[y_kmeans==3, 0], X[y_kmeans==3, 1], s=100, c='cyan', label ='Cluster 4')\n",
    "plt.scatter(X[y_kmeans==4, 0], X[y_kmeans==4, 1], s=100, c='magenta', label ='Cluster 5')\n",
    "plt.scatter(X[y_kmeans==5, 0], X[y_kmeans==5, 1], s=100, c='black', label ='Cluster 6')\n",
    "plt.scatter(X[y_kmeans==6, 0], X[y_kmeans==6, 1], s=100, c='grey', label ='Cluster 7')\n",
    "plt.scatter(centroids[:, 0], centroids[:, 1], s=20, c='yellow', label = 'Centroids')\n",
    "for i in range(len(newdatakmean)):\n",
    "    plt.scatter(newdatakmean[i][0], newdatakmean[i][1], s=30, c='purple')\n",
    "\n",
    "for i in range(0,7):\n",
    "    circle1 = plt.Circle((centroids[i][0], centroids[i][1]), radius[i] , color=color[i],fill= False)\n",
    "    ax.add_artist(circle1)\n",
    "plt.title('Clusters of operation modes')\n",
    "\n",
    "#plt.scatter(X[50297][0], X[50297][1], s=50, c='brown', label ='Cluster 1')\n",
    "\n",
    "plt.show()"
   ]
  },
  {
   "cell_type": "code",
   "execution_count": 46,
   "metadata": {},
   "outputs": [
    {
     "name": "stdout",
     "output_type": "stream",
     "text": [
      "[[3.226046323594264, 7.018173981801036], [-8.017934724383334, 14.309567120271389], [-10.271946668597604, 12.246786082505041], [2.4156849261711733, 7.908135469873097], [-9.88044089573637, 5.4729157667866195], [-7.758345051343772, 13.413249938754138], [-0.37606758895791437, 9.32072208146708], [-4.880793600093439, -2.561455192274967], [-9.592778899653586, 7.487902576749493], [-4.052371062794116, 9.30285499075887], [-7.099781404734661, 11.656447502752865], [-6.470097188937274, 7.871153905025804], [-5.863059992974003, 8.407289160481472], [-0.9827094346509607, 8.575192024543378], [9.337143691428318, -0.4030352538636033], [-7.805063585541232, 10.889401191132208], [-4.5331074250362136, 8.712116645427594], [6.376852637225257, 5.091020293491299]]\n",
      "[4, None, 4, 1, None, 3, 4, 7, 4, 4, None, None, 4, 1, None, 6, 0, 7, 3, 6, None, None, 4, None, 7, 4, 7, 7, None, None, None, 2, 4, 3, None, None, None, 3, 3, 4, 5, 7, 3, 0, None, 7, 3, 3, 5, 4, 7, None, None, 1, 0, 7, 3, 3, None, 1]\n",
      "    sensor1  sensor2  sensor3  sensor4  flag cluster\n",
      "0         3        1      729        9     1       4\n",
      "1         7        4      980        7     0    None\n",
      "2         8        2      676       10     1       4\n",
      "3         5        1     1131        4     1       1\n",
      "4         4        1      583        2     0    None\n",
      "5         2        1      938        6     1       3\n",
      "6         5        4      590        2     1       4\n",
      "7         6        1      995        4     1       7\n",
      "8         8        3      619        2     1       4\n",
      "9         7        3      725       10     1       4\n",
      "10        1        2      621        0     0    None\n",
      "11        8        3      943        6     0    None\n",
      "12        6        2      571        9     1       4\n",
      "13        4        0     1142        0     1       1\n",
      "14        0        1      859        0     0    None\n",
      "15        4        3     1187        8     1       6\n",
      "16        1        4     1192       14     1       0\n",
      "17        9        0      924        0     1       7\n",
      "18        2        2     1048        1     1       3\n",
      "19        8        2     1165       13     1       6\n",
      "20        2        2      609        4     0    None\n",
      "21        2        4      833       12     0    None\n",
      "22        1        2      702        9     1       4\n",
      "23        0        3     1202        0     0    None\n",
      "24        0        3      830       13     1       7\n",
      "25        5        3      771        6     1       4\n",
      "26        6        3     1023       12     1       7\n",
      "27        9        1      999        1     1       7\n",
      "28        2        0      798        0     0    None\n",
      "29        6        2      816        0     0    None\n",
      "30        0        4      673        4     0    None\n",
      "31        3        3     1165        5     1       2\n",
      "32        5        1      773        3     1       4\n",
      "33        5        2      996        1     1       3\n",
      "34        1        0      808        9     0    None\n",
      "35        3        2      813        2     0    None\n",
      "36        3        4      860        8     0    None\n",
      "37        3        0      980        6     1       3\n",
      "38        8        0     1100        0     1       3\n",
      "39        8        2      673        2     1       4\n",
      "40        7        3     1268        2     1       5\n",
      "41        6        3      917        4     1       7\n",
      "42        0        3      881        4     1       3\n",
      "43        5        3     1239        8     1       0\n",
      "44        8        4     1311       12     0    None\n",
      "45        5        2      970       13     1       7\n",
      "46        1        0      898        7     1       3\n",
      "47        5        0      933        6     1       3\n",
      "48        9        0     1330        1     1       5\n",
      "49        4        0      533       10     1       4\n",
      "50        1        3      790       14     1       7\n",
      "51        3        1      702        2     0    None\n",
      "52        2        3      812        5     0    None\n",
      "53        3        2     1267        3     1       1\n",
      "54        7        1     1211        5     1       0\n",
      "55        7        0      996        8     1       7\n",
      "56        2        0      828       13     1       3\n",
      "57        2        1     1075        8     1       3\n",
      "58        9        3     1088       10     0    None\n",
      "59        0        0     1203       10     1       1\n"
     ]
    }
   ],
   "source": [
    "import math\n",
    "flagged=[]\n",
    "flag=[]\n",
    "label=[]\n",
    "for i in range(len(newdatakmean)):\n",
    "    inrange=False\n",
    "    for j in range(0,7):\n",
    "        dist=math.sqrt(pow((centroids[j][0]-newdatakmean[i][0]),2)+pow((centroids[j][1]-newdatakmean[i][1]),2))\n",
    "        if dist-0.5<=radius[j]:\n",
    "            inrange=True\n",
    "            flag.append(1)\n",
    "            label.append(kmeans.predict([newdatakmean[i]])[0])\n",
    "            break\n",
    "    if inrange==False:\n",
    "        flagged.append(newdatakmean[i])\n",
    "        label.append(None)\n",
    "        flag.append(0)\n",
    "print(flagged)\n",
    "print(label)\n",
    "dataframe['flag']=np.array(flag)\n",
    "dataframe['cluster']=np.array(label)\n"
   ]
  },
  {
   "cell_type": "code",
   "execution_count": 47,
   "metadata": {},
   "outputs": [
    {
     "name": "stdout",
     "output_type": "stream",
     "text": [
      "    sensor1  sensor2  sensor3  sensor4  flag cluster\n",
      "0         3        1      729        9     1       4\n",
      "1         7        4      980        7     0    None\n",
      "2         8        2      676       10     1       4\n",
      "3         5        1     1131        4     1       1\n",
      "4         4        1      583        2     0    None\n",
      "5         2        1      938        6     1       3\n",
      "6         5        4      590        2     1       4\n",
      "7         6        1      995        4     1       7\n",
      "8         8        3      619        2     1       4\n",
      "9         7        3      725       10     1       4\n",
      "10        1        2      621        0     0    None\n",
      "11        8        3      943        6     0    None\n",
      "12        6        2      571        9     1       4\n",
      "13        4        0     1142        0     1       1\n",
      "14        0        1      859        0     0    None\n",
      "15        4        3     1187        8     1       6\n",
      "16        1        4     1192       14     1       0\n",
      "17        9        0      924        0     1       7\n",
      "18        2        2     1048        1     1       3\n",
      "19        8        2     1165       13     1       6\n",
      "20        2        2      609        4     0    None\n",
      "21        2        4      833       12     0    None\n",
      "22        1        2      702        9     1       4\n",
      "23        0        3     1202        0     0    None\n",
      "24        0        3      830       13     1       7\n",
      "25        5        3      771        6     1       4\n",
      "26        6        3     1023       12     1       7\n",
      "27        9        1      999        1     1       7\n",
      "28        2        0      798        0     0    None\n",
      "29        6        2      816        0     0    None\n",
      "30        0        4      673        4     0    None\n",
      "31        3        3     1165        5     1       2\n",
      "32        5        1      773        3     1       4\n",
      "33        5        2      996        1     1       3\n",
      "34        1        0      808        9     0    None\n",
      "35        3        2      813        2     0    None\n",
      "36        3        4      860        8     0    None\n",
      "37        3        0      980        6     1       3\n",
      "38        8        0     1100        0     1       3\n",
      "39        8        2      673        2     1       4\n",
      "40        7        3     1268        2     1       5\n",
      "41        6        3      917        4     1       7\n",
      "42        0        3      881        4     1       3\n",
      "43        5        3     1239        8     1       0\n",
      "44        8        4     1311       12     0    None\n",
      "45        5        2      970       13     1       7\n",
      "46        1        0      898        7     1       3\n",
      "47        5        0      933        6     1       3\n",
      "48        9        0     1330        1     1       5\n",
      "49        4        0      533       10     1       4\n",
      "50        1        3      790       14     1       7\n",
      "51        3        1      702        2     0    None\n",
      "52        2        3      812        5     0    None\n",
      "53        3        2     1267        3     1       1\n",
      "54        7        1     1211        5     1       0\n",
      "55        7        0      996        8     1       7\n",
      "56        2        0      828       13     1       3\n",
      "57        2        1     1075        8     1       3\n",
      "58        9        3     1088       10     0    None\n",
      "59        0        0     1203       10     1       1\n"
     ]
    }
   ],
   "source": [
    "print(dataframe)"
   ]
  },
  {
   "cell_type": "code",
   "execution_count": 262,
   "metadata": {},
   "outputs": [
    {
     "name": "stdout",
     "output_type": "stream",
     "text": [
      "[[  3.22604632   7.01817398]\n",
      " [ -8.01793472  14.30956712]\n",
      " [-10.27194667  12.24678608]\n",
      " [  2.41568493   7.90813547]\n",
      " [ -9.8804409    5.47291577]\n",
      " [ -7.75834505  13.41324994]\n",
      " [ -0.37606759   9.32072208]\n",
      " [ -4.8807936   -2.56145519]\n",
      " [ -9.5927789    7.48790258]\n",
      " [ -4.05237106   9.30285499]\n",
      " [ -7.0997814   11.6564475 ]\n",
      " [ -6.47009719   7.87115391]\n",
      " [ -5.86305999   8.40728916]\n",
      " [ -0.98270943   8.57519202]\n",
      " [  9.33714369  -0.40303525]\n",
      " [ -7.80506359  10.88940119]\n",
      " [ -4.53310743   8.71211665]\n",
      " [  6.37685264   5.09102029]]\n",
      "881.0482445078168\n",
      "384.1782629626967\n",
      "267.7948513757279\n",
      "152.56161725406372\n",
      "88.36075393458985\n",
      "55.43672215613117\n",
      "33.68769737384312\n",
      "21.506320442463682\n",
      "14.645535247253278\n",
      "9.119174971083394\n",
      "4.854018203370035\n",
      "2.782557569212689\n",
      "2.0581990468702176\n",
      "1.5153075475031557\n",
      "1.0533928501418943\n",
      "0.6180072060259867\n",
      "0.29003962131325256\n"
     ]
    },
    {
     "data": {
      "text/plain": [
       "Text(0, 0.5, 'SEE')"
      ]
     },
     "execution_count": 262,
     "metadata": {},
     "output_type": "execute_result"
    },
    {
     "data": {
      "image/png": "[encoded data removed]",
      "text/plain": [
       "<Figure size 720x576 with 1 Axes>"
      ]
     },
     "metadata": {
      "needs_background": "light"
     },
     "output_type": "display_data"
    }
   ],
   "source": [
    "\n",
    "flagged=np.array(flagged)\n",
    "print(flagged)\n",
    "SSE = []\n",
    "index = range(1,len(flagged))\n",
    "for i in index:\n",
    "    kmeans = KMeans(n_clusters=i, random_state=42)\n",
    "    kmeans.fit(flagged)\n",
    "    SSE.append(kmeans.inertia_)\n",
    "    print(kmeans.inertia_)\n",
    "plt.plot(index, SSE)\n",
    "plt.xlabel('K')\n",
    "plt.ylabel('SEE')\n"
   ]
  },
  {
   "cell_type": "code",
   "execution_count": 263,
   "metadata": {},
   "outputs": [
    {
     "data": {
      "text/plain": [
       "KMeans(n_clusters=4)"
      ]
     },
     "execution_count": 263,
     "metadata": {},
     "output_type": "execute_result"
    }
   ],
   "source": [
    "from sklearn.cluster import KMeans\n",
    "k=4\n",
    "kmeans=KMeans(n_clusters=k)\n",
    "kmeans.fit(flagged)\n"
   ]
  },
  {
   "cell_type": "code",
   "execution_count": 264,
   "metadata": {},
   "outputs": [
    {
     "data": {
      "text/plain": [
       "array([2, 0, 0, 2, 0, 0, 2, 3, 0, 2, 0, 0, 0, 2, 1, 0, 2, 1])"
      ]
     },
     "execution_count": 264,
     "metadata": {},
     "output_type": "execute_result"
    }
   ],
   "source": [
    "y_kmean_newdata=kmeans.predict(flagged)\n",
    "y_kmean_newdata"
   ]
  },
  {
   "cell_type": "code",
   "execution_count": 265,
   "metadata": {},
   "outputs": [
    {
     "data": {
      "image/png": "[encoded data removed]",
      "text/plain": [
       "<Figure size 720x576 with 1 Axes>"
      ]
     },
     "metadata": {
      "needs_background": "light"
     },
     "output_type": "display_data"
    }
   ],
   "source": [
    "color=['red','green','blue', 'orange','cyan', 'violet', 'purple']\n",
    "%matplotlib inline \n",
    "import matplotlib.pyplot as plt\n",
    "plt.rcParams[\"figure.figsize\"]=(10,8)\n",
    "fig, ax = plt.subplots()\n",
    "    \n",
    "    \n",
    "\n",
    "\n",
    "plt.xlim([-12,12])\n",
    "plt.ylim([-10,22])\n",
    "plt.scatter(flagged[y_kmean_newdata==0, 0], flagged[y_kmean_newdata==0, 1], s=100, c='brown', label ='Cluster 8')\n",
    "plt.scatter(flagged[y_kmean_newdata==1, 0], flagged[y_kmean_newdata==1, 1], s=100, c='violet', label ='Cluster 9')\n",
    "plt.scatter(flagged[y_kmean_newdata==2, 0], flagged[y_kmean_newdata==2, 1], s=100, c='pink', label ='Cluster 10')\n",
    "plt.scatter(flagged[y_kmean_newdata==3, 0], flagged[y_kmean_newdata==3, 1], s=100, c='orange', label ='Cluster 10')\n",
    "\n",
    "plt.scatter(X[y_kmeans==0, 0], X[y_kmeans==0, 1], s=100, c='red', label ='Cluster 1')\n",
    "plt.scatter(X[y_kmeans==1, 0], X[y_kmeans==1, 1], s=100, c='blue', label ='Cluster 2')\n",
    "plt.scatter(X[y_kmeans==2, 0], X[y_kmeans==2, 1], s=100, c='green', label ='Cluster 3')\n",
    "plt.scatter(X[y_kmeans==3, 0], X[y_kmeans==3, 1], s=100, c='cyan', label ='Cluster 4')\n",
    "plt.scatter(X[y_kmeans==4, 0], X[y_kmeans==4, 1], s=100, c='magenta', label ='Cluster 5')\n",
    "plt.scatter(X[y_kmeans==5, 0], X[y_kmeans==5, 1], s=100, c='black', label ='Cluster 6')\n",
    "plt.scatter(X[y_kmeans==6, 0], X[y_kmeans==6, 1], s=100, c='grey', label ='Cluster 7')\n",
    "plt.scatter(centroids[:, 0], centroids[:, 1], s=20, c='yellow', label = 'Centroids')\n",
    "#for i in range(len(newdatakmean)):\n",
    "   # plt.scatter(newdatakmean[i][0], newdatakmean[i][1], s=30, c='purple')\n",
    "\n",
    "for i in range(0,7):\n",
    "    circle1 = plt.Circle((centroids[i][0], centroids[i][1]), radius[i] , color=color[i],fill= False)\n",
    "    ax.add_artist(circle1)\n",
    "plt.title('Clusters of operation modes')\n",
    "\n",
    "#plt.scatter(X[50297][0], X[50297][1], s=50, c='brown', label ='Cluster 1')\n",
    "\n",
    "plt.show()"
   ]
  },
  {
   "cell_type": "code",
   "execution_count": null,
   "metadata": {},
   "outputs": [],
   "source": []
  },
  {
   "cell_type": "code",
   "execution_count": null,
   "metadata": {},
   "outputs": [],
   "source": []
  },
  {
   "cell_type": "code",
   "execution_count": null,
   "metadata": {},
   "outputs": [],
   "source": []
  }
 ],
 "metadata": {
  "kernelspec": {
   "display_name": "Python 3",
   "language": "python",
   "name": "python3"
  },
  "language_info": {
   "codemirror_mode": {
    "name": "ipython",
    "version": 3
   },
   "file_extension": ".py",
   "mimetype": "text/x-python",
   "name": "python",
   "nbconvert_exporter": "python",
   "pygments_lexer": "ipython3",
   "version": "3.8.3"
  }
 },
 "nbformat": 4,
 "nbformat_minor": 4
}
